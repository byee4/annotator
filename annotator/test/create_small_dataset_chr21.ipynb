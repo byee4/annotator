{
 "cells": [
  {
   "cell_type": "markdown",
   "metadata": {},
   "source": [
    "# Build the small dataset for tests\n",
    "- specifically to test this region: \tchr21\t46553734\t46553788"
   ]
  },
  {
   "cell_type": "code",
   "execution_count": 1,
   "metadata": {},
   "outputs": [],
   "source": [
    "import pandas as pd\n",
    "import gffutils\n",
    "import os\n",
    "from collections import defaultdict\n",
    "pd.set_option('max_colwidth', 800)\n",
    "pd.set_option('display.width', 1000)"
   ]
  },
  {
   "cell_type": "code",
   "execution_count": 2,
   "metadata": {},
   "outputs": [],
   "source": [
    "infile = '/home/bay001/projects/codebase/annotator/annotator/test/data/gencode.v19.annotation.gtf'\n",
    "outfile = '/home/bay001/projects/codebase/annotator/annotator/test/data/gencode.v19.annotation.chr21.gtf'\n",
    "db_file = '/home/bay001/projects/codebase/annotator/annotator/test/data/gencode.v19.annotation.chr21.gtf.db'\n",
    "\n",
    "def build_db(annotation_file, db_file, force=True, disable_infer_genes=True, disable_infer_transcripts=True):\n",
    "    db = gffutils.create_db(\n",
    "        annotation_file, dbfn=db_file, force=force, # change to True if we need to create a new db\n",
    "        keep_order=True, merge_strategy='merge', sort_attribute_values=True,\n",
    "        disable_infer_genes=disable_infer_genes,\n",
    "        disable_infer_transcripts=disable_infer_transcripts\n",
    "    )"
   ]
  },
  {
   "cell_type": "code",
   "execution_count": 3,
   "metadata": {},
   "outputs": [],
   "source": [
    "# build_db(annotation_file, db_file, disable_infer_genes=False, disable_infer_transcripts=False)\n",
    "infile = '/home/bay001/projects/codebase/annotator/annotator/test/data/gencode.v19.annotation.gtf'\n",
    "outfile = '/home/bay001/projects/codebase/annotator/annotator/test/data/gencode.v19.annotation.chr21.gtf'\n",
    "\n",
    "o = open(outfile,'w')\n",
    "with open(infile,'r') as f:\n",
    "    for line in f:\n",
    "        if not line.startswith('#'):\n",
    "            line = line.split('\\t')\n",
    "            if line[0] == 'chr21':\n",
    "                o.write('\\t'.join(line))\n",
    "\n",
    "o.close()"
   ]
  },
  {
   "cell_type": "code",
   "execution_count": 4,
   "metadata": {},
   "outputs": [
    {
     "name": "stderr",
     "output_type": "stream",
     "text": [
      "/home/bay001/anaconda2/envs/brian/lib/python2.7/site-packages/gffutils/create.py:730: UserWarning: It appears you have a gene feature in your GTF file. You may want to use the `disable_infer_genes` option to speed up database creation\n",
      "  \"It appears you have a gene feature in your GTF \"\n",
      "/home/bay001/anaconda2/envs/brian/lib/python2.7/site-packages/gffutils/create.py:721: UserWarning: It appears you have a transcript feature in your GTF file. You may want to use the `disable_infer_transcripts` option to speed up database creation\n",
      "  \"It appears you have a transcript feature in your GTF \"\n",
      "7231 of 8712 (83%)\r"
     ]
    }
   ],
   "source": [
    "build_db(outfile, db_file, disable_infer_genes=False, disable_infer_transcripts=False)"
   ]
  },
  {
   "cell_type": "code",
   "execution_count": null,
   "metadata": {},
   "outputs": [],
   "source": []
  }
 ],
 "metadata": {
  "kernelspec": {
   "display_name": "brian",
   "language": "python",
   "name": "brian"
  },
  "language_info": {
   "codemirror_mode": {
    "name": "ipython",
    "version": 2
   },
   "file_extension": ".py",
   "mimetype": "text/x-python",
   "name": "python",
   "nbconvert_exporter": "python",
   "pygments_lexer": "ipython2",
   "version": "2.7.11"
  }
 },
 "nbformat": 4,
 "nbformat_minor": 1
}
