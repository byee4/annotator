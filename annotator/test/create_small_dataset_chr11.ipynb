{
 "cells": [
  {
   "cell_type": "markdown",
   "metadata": {},
   "source": [
    "# Build the small dataset for tests"
   ]
  },
  {
   "cell_type": "code",
   "execution_count": 46,
   "metadata": {},
   "outputs": [],
   "source": [
    "import pandas as pd\n",
    "import gffutils\n",
    "import os\n",
    "from collections import defaultdict\n",
    "pd.set_option('max_colwidth', 800)\n",
    "pd.set_option('display.width', 1000)\n"
   ]
  },
  {
   "cell_type": "code",
   "execution_count": 47,
   "metadata": {
    "collapsed": true
   },
   "outputs": [],
   "source": [
    "infile = '/home/bay001/projects/codebase/annotator/annotator/test/data/gencode.v19.annotation.gtf'\n",
    "outfile = '/home/bay001/projects/codebase/annotator/annotator/test/data/gencode.v19.annotation.chr11.70M-71M.gtf'\n",
    "db_file = '/home/bay001/projects/codebase/annotator/annotator/test/data/gencode.v19.annotation.chr11.70M-71M.gtf.db'\n",
    "\n",
    "def build_db(annotation_file, db_file, force=True, disable_infer_genes=True, disable_infer_transcripts=True):\n",
    "    db = gffutils.create_db(\n",
    "        annotation_file, dbfn=db_file, force=force, # change to True if we need to create a new db\n",
    "        keep_order=True, merge_strategy='merge', sort_attribute_values=True,\n",
    "        disable_infer_genes=disable_infer_genes,\n",
    "        disable_infer_transcripts=disable_infer_transcripts\n",
    "    )"
   ]
  },
  {
   "cell_type": "code",
   "execution_count": 9,
   "metadata": {
    "collapsed": true
   },
   "outputs": [],
   "source": [
    "# build_db(annotation_file, db_file, disable_infer_genes=False, disable_infer_transcripts=False)\n",
    "infile = '/home/bay001/projects/codebase/annotator/annotator/test/data/gencode.v19.annotation.gtf'\n",
    "outfile = '/home/bay001/projects/codebase/annotator/annotator/test/data/gencode.v19.annotation.chr11.70M-71M.gtf'\n",
    "\n",
    "o = open(outfile,'w')\n",
    "with open(infile,'r') as f:\n",
    "    for line in f:\n",
    "        if not line.startswith('#'):\n",
    "            line = line.split('\\t')\n",
    "            if line[0] == 'chr11' and int(line[3]) > 69924407 and int(line[4]) < 71000000:\n",
    "                o.write('\\t'.join(line))\n",
    "\n",
    "o.close()"
   ]
  },
  {
   "cell_type": "code",
   "execution_count": 10,
   "metadata": {},
   "outputs": [
    {
     "name": "stderr",
     "output_type": "stream",
     "text": [
      "304 of 380 (80%)\r"
     ]
    }
   ],
   "source": [
    "build_db(outfile, db_file, disable_infer_genes=False, disable_infer_transcripts=False)"
   ]
  },
  {
   "cell_type": "markdown",
   "metadata": {
    "collapsed": true
   },
   "source": [
    "# Build the test database for prox and distal intron testing\n",
    "- mostly using this notebook for peeking into the gtf file and seeing what constitutes a gene"
   ]
  },
  {
   "cell_type": "code",
   "execution_count": 55,
   "metadata": {},
   "outputs": [
    {
     "data": {
      "text/html": [
       "<div>\n",
       "<style>\n",
       "    .dataframe thead tr:only-child th {\n",
       "        text-align: right;\n",
       "    }\n",
       "\n",
       "    .dataframe thead th {\n",
       "        text-align: left;\n",
       "    }\n",
       "\n",
       "    .dataframe tbody tr th {\n",
       "        vertical-align: top;\n",
       "    }\n",
       "</style>\n",
       "<table border=\"1\" class=\"dataframe\">\n",
       "  <thead>\n",
       "    <tr style=\"text-align: right;\">\n",
       "      <th></th>\n",
       "      <th>seqname</th>\n",
       "      <th>src</th>\n",
       "      <th>feature</th>\n",
       "      <th>start</th>\n",
       "      <th>end</th>\n",
       "      <th>score</th>\n",
       "      <th>strand</th>\n",
       "      <th>frame</th>\n",
       "      <th>attribute</th>\n",
       "    </tr>\n",
       "  </thead>\n",
       "  <tbody>\n",
       "    <tr>\n",
       "      <th>0</th>\n",
       "      <td>chr1</td>\n",
       "      <td>HAVANA</td>\n",
       "      <td>gene</td>\n",
       "      <td>11869</td>\n",
       "      <td>14412</td>\n",
       "      <td>.</td>\n",
       "      <td>+</td>\n",
       "      <td>.</td>\n",
       "      <td>gene_id \"ENSG00000223972.4\"; transcript_id \"ENSG00000223972.4\"; gene_type \"pseudogene\"; gene_status \"KNOWN\"; gene_name \"DDX11L1\"; transcript_type \"pseudogene\"; transcript_status \"KNOWN\"; transcript_name \"DDX11L1\"; level 2; havana_gene \"OTTHUMG00000000961.2\";</td>\n",
       "    </tr>\n",
       "    <tr>\n",
       "      <th>1</th>\n",
       "      <td>chr1</td>\n",
       "      <td>HAVANA</td>\n",
       "      <td>transcript</td>\n",
       "      <td>11869</td>\n",
       "      <td>14409</td>\n",
       "      <td>.</td>\n",
       "      <td>+</td>\n",
       "      <td>.</td>\n",
       "      <td>gene_id \"ENSG00000223972.4\"; transcript_id \"ENST00000456328.2\"; gene_type \"pseudogene\"; gene_status \"KNOWN\"; gene_name \"DDX11L1\"; transcript_type \"processed_transcript\"; transcript_status \"KNOWN\"; transcript_name \"DDX11L1-002\"; level 2; tag \"basic\"; havana_gene \"OTTHUMG00000000961.2\"; havana_transcript \"OTTHUMT00000362751.1\";</td>\n",
       "    </tr>\n",
       "    <tr>\n",
       "      <th>2</th>\n",
       "      <td>chr1</td>\n",
       "      <td>HAVANA</td>\n",
       "      <td>exon</td>\n",
       "      <td>11869</td>\n",
       "      <td>12227</td>\n",
       "      <td>.</td>\n",
       "      <td>+</td>\n",
       "      <td>.</td>\n",
       "      <td>gene_id \"ENSG00000223972.4\"; transcript_id \"ENST00000456328.2\"; gene_type \"pseudogene\"; gene_status \"KNOWN\"; gene_name \"DDX11L1\"; transcript_type \"processed_transcript\"; transcript_status \"KNOWN\"; transcript_name \"DDX11L1-002\"; exon_number 1;  exon_id \"ENSE00002234944.1\";  level 2; tag \"basic\"; havana_gene \"OTTHUMG00000000961.2\"; havana_transcript \"OTTHUMT00000362751.1\";</td>\n",
       "    </tr>\n",
       "    <tr>\n",
       "      <th>3</th>\n",
       "      <td>chr1</td>\n",
       "      <td>HAVANA</td>\n",
       "      <td>exon</td>\n",
       "      <td>12613</td>\n",
       "      <td>12721</td>\n",
       "      <td>.</td>\n",
       "      <td>+</td>\n",
       "      <td>.</td>\n",
       "      <td>gene_id \"ENSG00000223972.4\"; transcript_id \"ENST00000456328.2\"; gene_type \"pseudogene\"; gene_status \"KNOWN\"; gene_name \"DDX11L1\"; transcript_type \"processed_transcript\"; transcript_status \"KNOWN\"; transcript_name \"DDX11L1-002\"; exon_number 2;  exon_id \"ENSE00003582793.1\";  level 2; tag \"basic\"; havana_gene \"OTTHUMG00000000961.2\"; havana_transcript \"OTTHUMT00000362751.1\";</td>\n",
       "    </tr>\n",
       "    <tr>\n",
       "      <th>4</th>\n",
       "      <td>chr1</td>\n",
       "      <td>HAVANA</td>\n",
       "      <td>exon</td>\n",
       "      <td>13221</td>\n",
       "      <td>14409</td>\n",
       "      <td>.</td>\n",
       "      <td>+</td>\n",
       "      <td>.</td>\n",
       "      <td>gene_id \"ENSG00000223972.4\"; transcript_id \"ENST00000456328.2\"; gene_type \"pseudogene\"; gene_status \"KNOWN\"; gene_name \"DDX11L1\"; transcript_type \"processed_transcript\"; transcript_status \"KNOWN\"; transcript_name \"DDX11L1-002\"; exon_number 3;  exon_id \"ENSE00002312635.1\";  level 2; tag \"basic\"; havana_gene \"OTTHUMG00000000961.2\"; havana_transcript \"OTTHUMT00000362751.1\";</td>\n",
       "    </tr>\n",
       "  </tbody>\n",
       "</table>\n",
       "</div>"
      ],
      "text/plain": [
       "  seqname     src     feature  start    end score strand frame                                                                                                                                                                                                                                                                                                                                                                              attribute\n",
       "0    chr1  HAVANA        gene  11869  14412     .      +     .                                                                                                                     gene_id \"ENSG00000223972.4\"; transcript_id \"ENSG00000223972.4\"; gene_type \"pseudogene\"; gene_status \"KNOWN\"; gene_name \"DDX11L1\"; transcript_type \"pseudogene\"; transcript_status \"KNOWN\"; transcript_name \"DDX11L1\"; level 2; havana_gene \"OTTHUMG00000000961.2\";\n",
       "1    chr1  HAVANA  transcript  11869  14409     .      +     .                                                gene_id \"ENSG00000223972.4\"; transcript_id \"ENST00000456328.2\"; gene_type \"pseudogene\"; gene_status \"KNOWN\"; gene_name \"DDX11L1\"; transcript_type \"processed_transcript\"; transcript_status \"KNOWN\"; transcript_name \"DDX11L1-002\"; level 2; tag \"basic\"; havana_gene \"OTTHUMG00000000961.2\"; havana_transcript \"OTTHUMT00000362751.1\";\n",
       "2    chr1  HAVANA        exon  11869  12227     .      +     .  gene_id \"ENSG00000223972.4\"; transcript_id \"ENST00000456328.2\"; gene_type \"pseudogene\"; gene_status \"KNOWN\"; gene_name \"DDX11L1\"; transcript_type \"processed_transcript\"; transcript_status \"KNOWN\"; transcript_name \"DDX11L1-002\"; exon_number 1;  exon_id \"ENSE00002234944.1\";  level 2; tag \"basic\"; havana_gene \"OTTHUMG00000000961.2\"; havana_transcript \"OTTHUMT00000362751.1\";\n",
       "3    chr1  HAVANA        exon  12613  12721     .      +     .  gene_id \"ENSG00000223972.4\"; transcript_id \"ENST00000456328.2\"; gene_type \"pseudogene\"; gene_status \"KNOWN\"; gene_name \"DDX11L1\"; transcript_type \"processed_transcript\"; transcript_status \"KNOWN\"; transcript_name \"DDX11L1-002\"; exon_number 2;  exon_id \"ENSE00003582793.1\";  level 2; tag \"basic\"; havana_gene \"OTTHUMG00000000961.2\"; havana_transcript \"OTTHUMT00000362751.1\";\n",
       "4    chr1  HAVANA        exon  13221  14409     .      +     .  gene_id \"ENSG00000223972.4\"; transcript_id \"ENST00000456328.2\"; gene_type \"pseudogene\"; gene_status \"KNOWN\"; gene_name \"DDX11L1\"; transcript_type \"processed_transcript\"; transcript_status \"KNOWN\"; transcript_name \"DDX11L1-002\"; exon_number 3;  exon_id \"ENSE00002312635.1\";  level 2; tag \"basic\"; havana_gene \"OTTHUMG00000000961.2\"; havana_transcript \"OTTHUMT00000362751.1\";"
      ]
     },
     "execution_count": 55,
     "metadata": {},
     "output_type": "execute_result"
    }
   ],
   "source": [
    "# infile = '/home/bay001/projects/codebase/annotator/annotator/test/data/proxdist_test.gtf'\n",
    "infile = '/projects/ps-yeolab/genomes/hg19/gencode_v19/gencode.v19.annotation.gtf'\n",
    "df = pd.read_table(\n",
    "    infile, names=['seqname','src','feature','start','end','score','strand','frame','attribute'], comment='#'\n",
    ")\n",
    "df.head()"
   ]
  },
  {
   "cell_type": "code",
   "execution_count": 49,
   "metadata": {},
   "outputs": [
    {
     "name": "stderr",
     "output_type": "stream",
     "text": [
      "/home/bay001/anaconda2/envs/brian/lib/python2.7/site-packages/gffutils/create.py:714: UserWarning: It appears you have a gene feature in your GTF file. You may want to use the `disable_infer_genes` option to speed up database creation\n",
      "  \"It appears you have a gene feature in your GTF \"\n",
      "/home/bay001/anaconda2/envs/brian/lib/python2.7/site-packages/gffutils/create.py:705: UserWarning: It appears you have a transcript feature in your GTF file. You may want to use the `disable_infer_transcripts` option to speed up database creation\n",
      "  \"It appears you have a transcript feature in your GTF \"\n",
      "7 of 8 (87%)\r"
     ]
    }
   ],
   "source": [
    "db_file = '/home/bay001/projects/codebase/annotator/annotator/test/data/proxdist_test.gtf.db'\n",
    "build_db(infile, db_file, disable_infer_genes=False, disable_infer_transcripts=False)"
   ]
  },
  {
   "cell_type": "code",
   "execution_count": 56,
   "metadata": {},
   "outputs": [
    {
     "name": "stderr",
     "output_type": "stream",
     "text": [
      "/home/bay001/anaconda2/envs/brian/lib/python2.7/site-packages/ipykernel_launcher.py:1: FutureWarning: currently extract(expand=None) means expand=False (return Index/Series/DataFrame) but in a future version of pandas this will be changed to expand=True (return DataFrame)\n",
      "  \"\"\"Entry point for launching an IPython kernel.\n"
     ]
    },
    {
     "data": {
      "text/plain": [
       "protein_coding              2402832\n",
       "pseudogene                    70989\n",
       "lincRNA                       51893\n",
       "antisense                     41470\n",
       "processed_transcript          13567\n",
       "miRNA                          9165\n",
       "misc_RNA                       6102\n",
       "snRNA                          5748\n",
       "snoRNA                         4371\n",
       "polymorphic_pseudogene         3515\n",
       "sense_intronic                 3175\n",
       "rRNA                           1581\n",
       "sense_overlapping              1352\n",
       "IG_V_gene                      1123\n",
       "TR_V_gene                       763\n",
       "IG_V_pseudogene                 681\n",
       "TR_J_gene                       300\n",
       "IG_C_gene                       185\n",
       "IG_D_gene                       152\n",
       "3prime_overlapping_ncrna        100\n",
       "TR_V_pseudogene                  99\n",
       "IG_J_gene                        82\n",
       "Mt_tRNA                          66\n",
       "TR_C_gene                        58\n",
       "IG_C_pseudogene                  36\n",
       "TR_J_pseudogene                  12\n",
       "TR_D_gene                        12\n",
       "IG_J_pseudogene                   9\n",
       "Mt_rRNA                           6\n",
       "Name: coding, dtype: int64"
      ]
     },
     "execution_count": 56,
     "metadata": {},
     "output_type": "execute_result"
    }
   ],
   "source": [
    "df['coding'] = df['attribute'].str.extract(\"gene_type \\\"([\\w\\d\\.]+)\\\"\")\n",
    "df['coding'].value_counts()"
   ]
  },
  {
   "cell_type": "code",
   "execution_count": null,
   "metadata": {
    "collapsed": true
   },
   "outputs": [],
   "source": []
  }
 ],
 "metadata": {
  "kernelspec": {
   "display_name": "Python 2",
   "language": "python",
   "name": "python2"
  },
  "language_info": {
   "codemirror_mode": {
    "name": "ipython",
    "version": 2
   },
   "file_extension": ".py",
   "mimetype": "text/x-python",
   "name": "python",
   "nbconvert_exporter": "python",
   "pygments_lexer": "ipython2",
   "version": "2.7.13"
  }
 },
 "nbformat": 4,
 "nbformat_minor": 1
}
