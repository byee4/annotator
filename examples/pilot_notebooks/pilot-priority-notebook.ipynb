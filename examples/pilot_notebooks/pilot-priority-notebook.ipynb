{
 "cells": [
  {
   "cell_type": "code",
   "execution_count": 1,
   "metadata": {
    "collapsed": true
   },
   "outputs": [],
   "source": [
    "import Annotator\n",
    "import gff_helpers\n",
    "import gffutils\n",
    "import region_helpers as r\n",
    "import pybedtools\n",
    "import os\n",
    "import pandas as pd\n",
    "from tqdm import tnrange, tqdm_notebook"
   ]
  },
  {
   "cell_type": "code",
   "execution_count": 2,
   "metadata": {
    "collapsed": true,
    "scrolled": true
   },
   "outputs": [],
   "source": [
    "GENE_PRIORITY = [\n",
    "    ['protein_coding','CDS'],\n",
    "    ['non_coding', 'CDS'],  # shouldn't occur?\n",
    "    ['protein_coding','5UTR'],\n",
    "    ['protein_coding','3UTR'],\n",
    "    ['protein_coding', 'THREE_AND_FIVE_PRIME_UTR'],\n",
    "    ['protein_coding','intron'],\n",
    "    ['non_coding','3UTR'],\n",
    "    ['non_coding','5UTR'],\n",
    "    ['non_coding', 'THREE_AND_FIVE_PRIME_UTR'],\n",
    "    ['non_coding','exon'],\n",
    "    ['non_coding','intron'],\n",
    "    ['non_coding','transcript'],\n",
    "    ['non_coding','gene'],\n",
    "    ['protein_coding','start_codon'],\n",
    "    ['protein_coding','stop_codon'],\n",
    "    ['protein_coding','Selenocysteine'],\n",
    "    ['non_coding','start_codon'],  # shouldn't occur?\n",
    "    ['non_coding','stop_codon'],  # shouldn't occur?\n",
    "    ['protein_coding', 'exon'],  # shouldn't occur?\n",
    "    ['protein_coding', 'transcript'],  # shouldn't occur?\n",
    "    ['protein_coding', 'gene'],  # shouldn't occur?\n",
    "\n",
    "    ['non_coding','Selenocysteine'],\n",
    "]\n",
    "\n",
    "TRANSCRIPT_PRIORITY = [\n",
    "    ['protein_coding','CDS'],\n",
    "    ['protein_coding','5UTR'],\n",
    "    ['protein_coding','3UTR'],\n",
    "    ['protein_coding','intron'],\n",
    "    ['protein_coding', 'THREE_AND_FIVE_PRIME_UTR'],\n",
    "    ['non_coding','3UTR'],\n",
    "    ['non_coding','5UTR'],\n",
    "    ['non_coding', 'THREE_AND_FIVE_PRIME_UTR'],\n",
    "    ['non_coding','exon'],\n",
    "    ['non_coding','intron'],\n",
    "    ['non_coding','transcript'],\n",
    "    ['non_coding','gene'],\n",
    "    ['protein_coding','start_codon'],\n",
    "    ['protein_coding','stop_codon'],\n",
    "    ['protein_coding','Selenocysteine'],\n",
    "    ['non_coding','CDS'], # shouldn't occur?\n",
    "    ['non_coding','start_codon'],  # shouldn't occur?\n",
    "    ['non_coding','stop_codon'],  # shouldn't occur?\n",
    "    ['protein_coding','exon'], # shouldn't occur?\n",
    "    ['protein_coding','transcript'], # shouldn't occur?\n",
    "    ['protein_coding','gene'], # shouldn't occur?\n",
    "    ['non_coding','Selenocysteine'],\n",
    "]\n"
   ]
  },
  {
   "cell_type": "code",
   "execution_count": 3,
   "metadata": {},
   "outputs": [
    {
     "name": "stderr",
     "output_type": "stream",
     "text": [
      "Initializing/creating defs:  38%|███▊      | 3/8 [00:10<00:08,  1.64s/it]\n",
      "Build Location Index:   0%|          | 0/25 [00:00<?, ?it/s]\u001b[A\n",
      "Build Location Index:   4%|▍         | 1/25 [00:02<00:58,  2.45s/it]\u001b[A\n",
      "Build Location Index:   8%|▊         | 2/25 [00:09<01:26,  3.75s/it]\u001b[A\n",
      "Build Location Index:  12%|█▏        | 3/25 [00:13<01:24,  3.85s/it]\u001b[A\n",
      "Build Location Index:  16%|█▌        | 4/25 [00:24<02:09,  6.15s/it]\u001b[A\n",
      "Build Location Index:  20%|██        | 5/25 [00:36<02:36,  7.80s/it]\u001b[A\n",
      "Build Location Index:  24%|██▍       | 6/25 [00:42<02:17,  7.23s/it]\u001b[A\n",
      "Build Location Index:  28%|██▊       | 7/25 [00:55<02:43,  9.11s/it]\u001b[A\n",
      "Build Location Index:  32%|███▏      | 8/25 [01:03<02:27,  8.68s/it]\u001b[A\n",
      "Build Location Index:  36%|███▌      | 9/25 [01:12<02:20,  8.77s/it]\u001b[A\n",
      "Build Location Index:  40%|████      | 10/25 [01:18<01:59,  7.99s/it]\u001b[A\n",
      "Build Location Index:  44%|████▍     | 11/25 [01:31<02:12,  9.44s/it]\u001b[A\n",
      "Build Location Index:  48%|████▊     | 12/25 [01:35<01:41,  7.77s/it]\u001b[A\n",
      "Build Location Index:  52%|█████▏    | 13/25 [01:37<01:13,  6.13s/it]\u001b[A\n",
      "Build Location Index:  56%|█████▌    | 14/25 [01:42<01:01,  5.63s/it]\u001b[A\n",
      "Build Location Index:  60%|██████    | 15/25 [01:51<01:06,  6.63s/it]\u001b[A\n",
      "Build Location Index:  64%|██████▍   | 16/25 [01:54<00:50,  5.59s/it]\u001b[A\n",
      "Build Location Index:  68%|██████▊   | 17/25 [02:01<00:49,  6.16s/it]\u001b[A\n",
      "Build Location Index:  72%|███████▏  | 18/25 [02:08<00:45,  6.44s/it]\u001b[A\n",
      "Build Location Index:  76%|███████▌  | 19/25 [02:21<00:49,  8.23s/it]\u001b[A\n",
      "Build Location Index:  80%|████████  | 20/25 [02:27<00:38,  7.75s/it]\u001b[A\n",
      "Build Location Index:  84%|████████▍ | 21/25 [02:36<00:32,  8.07s/it]\u001b[A\n",
      "Build Location Index:  88%|████████▊ | 22/25 [02:53<00:32, 10.70s/it]\u001b[A\n",
      "Build Location Index:  92%|█████████▏| 23/25 [03:06<00:22, 11.29s/it]\u001b[A\n",
      "Build Location Index:  96%|█████████▌| 24/25 [03:12<00:09,  9.67s/it]\u001b[A\n",
      "Initializing/creating defs:  50%|█████     | 4/8 [03:40<04:16, 64.20s/it]\n",
      "Initializing/creating defs: 100%|██████████| 8/8 [10:38<00:00, 99.11s/it] "
     ]
    }
   ],
   "source": [
    "db_file = '/projects/ps-yeolab/genomes/hg19/gencode_v19/gencode.v19.annotation.gtf.db'\n",
    "a = Annotator.Annotator(db_file)"
   ]
  },
  {
   "cell_type": "code",
   "execution_count": null,
   "metadata": {
    "collapsed": true
   },
   "outputs": [],
   "source": [
    "# this is an example output from what step1 gives me\n",
    "bed = '/home/bay001/projects/codebase/bfx/pyscripts/data/WTV5_02_01.basedon_WTV5_02_01.peaks.l2inputnormnew.bed.compressed.chr7.bed.brianannotated2'"
   ]
  },
  {
   "cell_type": "code",
   "execution_count": null,
   "metadata": {
    "collapsed": true
   },
   "outputs": [],
   "source": [
    "df = pd.read_table(bed, names=['chrom','start','end','pv','fc','strand','annotation'])"
   ]
  },
  {
   "cell_type": "code",
   "execution_count": 6,
   "metadata": {
    "collapsed": true
   },
   "outputs": [],
   "source": [
    "HASH_VAL = 1000000\n",
    "from collections import defaultdict, OrderedDict\n",
    "\n",
    "def get_all_overlapping_features_from_query(chrom, qstart, qend,\n",
    "                                            strand):\n",
    "    \"\"\"\n",
    "    Given a query location (chr, start, end), return all features that\n",
    "    overlap by at least one base. Functions similarly to gffutils db.region(),\n",
    "    but uses the pre-hashed self.features_dict to greatly speed things up.\n",
    "\n",
    "    :param chrom : string\n",
    "    :param qstart : int\n",
    "    :param qend : int\n",
    "    :param strand : string\n",
    "    :return features : list\n",
    "        list of gffutils.Feature objects.\n",
    "    \"\"\"\n",
    "    features = []\n",
    "    start_key = int(qstart / HASH_VAL)\n",
    "    end_key = int(qend / HASH_VAL)\n",
    "    qstart = qstart + 1 # change 0-based bed to 1-based gff\n",
    "    qend = qend - 1\n",
    "    for i in range(start_key, end_key + 1):\n",
    "        for feature in a.features_dict[chrom, i, strand]:\n",
    "            if(feature.end == 65419400):\n",
    "                print(\"FEATURE: \", feature)\n",
    "            if qstart <= feature.start and qend >= feature.end:  # feature completely contains query\n",
    "                features.append(feature)\n",
    "            elif qstart >= feature.start and qend <= feature.end:  # query completely contains feature\n",
    "                features.append(feature)\n",
    "            elif qstart <= feature.start and qend >= feature.start:  # feature partially overlaps (qstart < fstart < qend)\n",
    "                features.append(feature)\n",
    "            elif qstart <= feature.end and qend >= feature.end:  # feature partially overlaps (qstart < fend < qend)\n",
    "                features.append(feature)\n",
    "    # if qstart == 65419400:\n",
    "    #     print(features)\n",
    "    return features\n",
    "    \n",
    "def parse_annotation_string(features_string):\n",
    "    \"\"\"\n",
    "    Splits a feature string into a list of feature strings\n",
    "\n",
    "    :param features_string:\n",
    "    :return:\n",
    "    \"\"\"\n",
    "    features = features_string.split('|')\n",
    "    return features\n",
    "\n",
    "def is_protein_coding(transcript_type):\n",
    "    \"\"\"\n",
    "    if defined protein coding, return True else False\n",
    "\n",
    "    :param transcript_type:\n",
    "    :return:\n",
    "    \"\"\"\n",
    "    if transcript_type == 'protein_coding':\n",
    "        return True\n",
    "    return False\n",
    "\n",
    "def return_highest_priority_feature(formatted_features, priority):\n",
    "    # Build dict\n",
    "    combined_dict = defaultdict(list)\n",
    "    for feature_string in formatted_features:\n",
    "        transcript, start, end, strand, feature_type, gene_id, gene_name, transcript_type_list = feature_string.split(\n",
    "            ':')\n",
    "        transcript_type_list = transcript_type_list.split(',')\n",
    "        for transcript_type in transcript_type_list:\n",
    "            if is_protein_coding(\n",
    "                    transcript_type):  # simplify all the types at first\n",
    "                combined_dict['protein_coding', feature_type].append(\n",
    "                    feature_string)\n",
    "            else:\n",
    "                combined_dict['non_coding',  feature_type].append(\n",
    "                    feature_string)\n",
    "    # return the highest one\n",
    "    combined_dict = OrderedDict(\n",
    "        combined_dict)  # turn into ordered dict, is that ok?\n",
    "    combined_dict = sorted(  # sort based on priority list\n",
    "        combined_dict.iteritems(),\n",
    "        key=lambda x: priority.index([x[0][0], x[0][1]])\n",
    "    )\n",
    "    return combined_dict[0]\n",
    "\n",
    "def prioritize_transcript_then_gene(formatted_features, gene_priority,\n",
    "                         transcript_priority):\n",
    "    unique_transcript_features = defaultdict(list)\n",
    "    unique_transcripts = defaultdict(list)\n",
    "    unique_genes = defaultdict(list)\n",
    "    final = []\n",
    "    # print(\"INITIALIZING FUNC\")\n",
    "    for feature_string in formatted_features:\n",
    "        if feature_string.split(':')[4] != 'gene':\n",
    "            transcript = feature_string.split(':')[0]\n",
    "            unique_transcript_features[transcript].append(\n",
    "                feature_string)\n",
    "\n",
    "    # Now each unique_transcripts[] contains one record\n",
    "    # containing a list of features for each unique transcript\n",
    "    # print(\"FORMATTED FEATURES: \", formatted_features)\n",
    "    # print(\"UNIQUE TRANSCRIPTS: \", unique_transcripts)\n",
    "    for transcript in unique_transcript_features.keys(): # For each unique transcript\n",
    "        top_transcript = return_highest_priority_feature(\n",
    "            unique_transcript_features[transcript],\n",
    "            transcript_priority\n",
    "        )[1][0]  # [0] contains the dictionary key\n",
    "        unique_transcripts[transcript].append(\n",
    "            top_transcript\n",
    "        )\n",
    "        # add gene key\n",
    "        gene_list = top_transcript.split(':')[5].split(',')\n",
    "        for gene in gene_list:\n",
    "            unique_genes[gene].append(top_transcript)\n",
    "        # print(\"TRANSCRIPT: {}\".format(transcript))\n",
    "        # print(\"UNIQUE TRANSCRIPTS[TRANSCRIPT]: \", unique_transcripts[transcript])\n",
    "        # for each feature, append to each unique gene the top priority feature for each transcript\n",
    "\n",
    "        \"\"\"\n",
    "        for feature_string in unique_transcripts[transcript]:\n",
    "            # print(\"T\", t)\n",
    "            genes = feature_string.split(':')[5]\n",
    "            for gene in genes.split(','):\n",
    "                unique_genes[gene].append(\n",
    "                    self.return_highest_priority_feature(\n",
    "                        unique_transcripts[transcript],\n",
    "                        transcript_priority\n",
    "                    )[1][0]  # [0] contains the dictionary key\n",
    "                )\n",
    "        \"\"\"\n",
    "\n",
    "    for gene, transcripts in unique_genes.iteritems():\n",
    "        for transcript in transcripts:\n",
    "            final.append(transcript)\n",
    "    feature_type, final = return_highest_priority_feature(\n",
    "        final, gene_priority\n",
    "    )\n",
    "    if feature_type[0] == 'non_coding':\n",
    "        return final[0].replace('exon', 'noncoding_exon').replace('intron', 'noncoding_intron')\n",
    "    return final[0]\n",
    "\n",
    "def annotate(\n",
    "        interval,\n",
    "        transcript_priority=TRANSCRIPT_PRIORITY,\n",
    "        gene_priority=GENE_PRIORITY\n",
    "):\n",
    "    \"\"\"\n",
    "    Given an interval, annotates using the priority\n",
    "\n",
    "    :param interval:\n",
    "    :return:\n",
    "    \"\"\"\n",
    "    overlapping_features = get_all_overlapping_features_from_query(\n",
    "        interval.chrom,\n",
    "        interval.start,\n",
    "        interval.end,\n",
    "        interval.strand\n",
    "    )\n",
    "    if len(overlapping_features) == 0:\n",
    "        return 'intergenic'\n",
    "    to_append = ''  # full list of genes overlapping features\n",
    "    transcript = defaultdict(list)\n",
    "    print(overlapping_features)\n",
    "    for feature in overlapping_features:  # for each overlapping feature\n",
    "        for transcript_id in feature.attributes[\n",
    "            'transcript_id'\n",
    "        ]:  # multiple genes can be associated with one feature\n",
    "            transcript[transcript_id].append(\n",
    "                feature)  # append features to their respective genes\n",
    "    for transcript, features in transcript.iteritems():\n",
    "        for feature in features:\n",
    "            # if 'protein_coding' not in feature.attributes['transcript_type']:\n",
    "            #     if feature.featuretype == 'exon' or feature.featuretype == 'UTR':\n",
    "            #         feature.featuretype = 'noncoding_exon'\n",
    "            if feature.featuretype == 'UTR':\n",
    "                feature.featuretype = a._classify_utr(feature)\n",
    "            to_append += \"{}:{}:{}:{}:{}:\".format(\n",
    "                transcript,\n",
    "                feature.start,\n",
    "                feature.end,\n",
    "                feature.strand,\n",
    "                feature.featuretype,\n",
    "            )\n",
    "            for t in feature.attributes['gene_id']:\n",
    "                to_append += '{},'.format(t)\n",
    "            to_append = to_append[:-1] + ':'\n",
    "            for t in feature.attributes['gene_name']:\n",
    "                to_append += '{},'.format(t)\n",
    "            to_append = to_append[:-1] + ':'\n",
    "            for t in feature.attributes['transcript_type']:\n",
    "                to_append += '{},'.format(t)\n",
    "            to_append = to_append[:-1] + '|'\n",
    "    to_append = to_append[:-1]\n",
    "    print(\"TO APPEND\", to_append)\n",
    "    return prioritize_transcript_then_gene(\n",
    "        parse_annotation_string(to_append),\n",
    "        transcript_priority,\n",
    "        gene_priority\n",
    "    )"
   ]
  },
  {
   "cell_type": "code",
   "execution_count": null,
   "metadata": {
    "collapsed": true
   },
   "outputs": [],
   "source": []
  },
  {
   "cell_type": "code",
   "execution_count": null,
   "metadata": {},
   "outputs": [],
   "source": [
    "\"\"\"for i in range(15, 30): # for each line (peak)\n",
    "    features_test = df.ix[i]['features']\n",
    "    extended_features = []\n",
    "    for feature in features_test: # for each list of features\n",
    "        transcript, start, end, strand, feature_type, gene_id, gene_name, transcript_type_list = feature.split(':')\n",
    "        transcript_types = transcript_type_list.split(',')\n",
    "        for transcript_type in transcript_types:\n",
    "            extended_features.append(\n",
    "                '{}:{}:{}:{}:{}:{}:{}'.format(\n",
    "                    transcript, start, end, strand, feature_type,\n",
    "                    gene_id, transcript_type\n",
    "                )\n",
    "            )\n",
    "            print('{}:{}:{}:{}:{}:{}:{}'.format(\n",
    "                    transcript, start, end, strand, feature_type,\n",
    "                    gene_id, transcript_type\n",
    "                ))\n",
    "    print(\"____\")\"\"\""
   ]
  },
  {
   "cell_type": "markdown",
   "metadata": {
    "scrolled": true
   },
   "source": [
    "# Test the priority feature\n",
    "- given list of features, return with highest priority:\n",
    "\n",
    "['gene',\n",
    " 'Selenocysteine',\n",
    " 'UTR',\n",
    " 'exon',\n",
    " 'stop_codon',\n",
    " 'CDS',\n",
    " 'start_codon',\n",
    " 'transcript']"
   ]
  },
  {
   "cell_type": "code",
   "execution_count": 5,
   "metadata": {},
   "outputs": [
    {
     "name": "stderr",
     "output_type": "stream",
     "text": [
      "/home/bay001/anaconda2/envs/brian/lib/python2.7/site-packages/ipykernel_launcher.py:8: DeprecationWarning: \n",
      ".ix is deprecated. Please use\n",
      ".loc for label based indexing or\n",
      ".iloc for positional indexing\n",
      "\n",
      "See the documentation here:\n",
      "http://pandas.pydata.org/pandas-docs/stable/indexing.html#deprecate_ix\n",
      "  \n"
     ]
    },
    {
     "name": "stdout",
     "output_type": "stream",
     "text": [
      "chrom            chr20\n",
      "start           257012\n",
      "end             257036\n",
      "p                    0\n",
      "f             0.678857\n",
      "strand               -\n",
      "annotation         NaN\n",
      "Name: 3082, dtype: object\n"
     ]
    },
    {
     "ename": "AttributeError",
     "evalue": "'numpy.float64' object has no attribute 'split'",
     "output_type": "error",
     "traceback": [
      "\u001b[0;31m---------------------------------------------------------------------------\u001b[0m",
      "\u001b[0;31mAttributeError\u001b[0m                            Traceback (most recent call last)",
      "\u001b[0;32m<ipython-input-5-0a644a53eff5>\u001b[0m in \u001b[0;36m<module>\u001b[0;34m()\u001b[0m\n\u001b[1;32m      7\u001b[0m \u001b[0mdf\u001b[0m \u001b[0;34m=\u001b[0m \u001b[0mpd\u001b[0m\u001b[0;34m.\u001b[0m\u001b[0mread_table\u001b[0m\u001b[0;34m(\u001b[0m\u001b[0mbed\u001b[0m\u001b[0;34m,\u001b[0m \u001b[0mnames\u001b[0m\u001b[0;34m=\u001b[0m\u001b[0mbrian_bedhead\u001b[0m\u001b[0;34m)\u001b[0m\u001b[0;34m\u001b[0m\u001b[0m\n\u001b[1;32m      8\u001b[0m \u001b[0;32mprint\u001b[0m\u001b[0;34m(\u001b[0m\u001b[0mdf\u001b[0m\u001b[0;34m.\u001b[0m\u001b[0mix\u001b[0m\u001b[0;34m[\u001b[0m\u001b[0;36m3082\u001b[0m\u001b[0;34m]\u001b[0m\u001b[0;34m)\u001b[0m\u001b[0;34m\u001b[0m\u001b[0m\n\u001b[0;32m----> 9\u001b[0;31m \u001b[0mannotation_string\u001b[0m \u001b[0;34m=\u001b[0m \u001b[0mparse_annotation_string\u001b[0m\u001b[0;34m(\u001b[0m\u001b[0mdf\u001b[0m\u001b[0;34m.\u001b[0m\u001b[0mix\u001b[0m\u001b[0;34m[\u001b[0m\u001b[0;36m921\u001b[0m\u001b[0;34m]\u001b[0m\u001b[0;34m[\u001b[0m\u001b[0;34m'annotation'\u001b[0m\u001b[0;34m]\u001b[0m\u001b[0;34m)\u001b[0m\u001b[0;34m\u001b[0m\u001b[0m\n\u001b[0m",
      "\u001b[0;32m<ipython-input-4-682d9cb0f1fd>\u001b[0m in \u001b[0;36mparse_annotation_string\u001b[0;34m(features_string)\u001b[0m\n\u001b[1;32m     44\u001b[0m     \u001b[0;34m:\u001b[0m\u001b[0;32mreturn\u001b[0m\u001b[0;34m:\u001b[0m\u001b[0;34m\u001b[0m\u001b[0m\n\u001b[1;32m     45\u001b[0m     \"\"\"\n\u001b[0;32m---> 46\u001b[0;31m     \u001b[0mfeatures\u001b[0m \u001b[0;34m=\u001b[0m \u001b[0mfeatures_string\u001b[0m\u001b[0;34m.\u001b[0m\u001b[0msplit\u001b[0m\u001b[0;34m(\u001b[0m\u001b[0;34m'|'\u001b[0m\u001b[0;34m)\u001b[0m\u001b[0;34m\u001b[0m\u001b[0m\n\u001b[0m\u001b[1;32m     47\u001b[0m     \u001b[0;32mreturn\u001b[0m \u001b[0mfeatures\u001b[0m\u001b[0;34m\u001b[0m\u001b[0m\n\u001b[1;32m     48\u001b[0m \u001b[0;34m\u001b[0m\u001b[0m\n",
      "\u001b[0;31mAttributeError\u001b[0m: 'numpy.float64' object has no attribute 'split'"
     ]
    }
   ],
   "source": [
    "\n",
    "brian_bedhead = ['chrom','start','end','p','f','strand','annotation']\n",
    "d = '/home/bay001/projects/codebase/bfx/pyscripts/data/'\n",
    "# bed = os.path.join(d,'WTV5_02_01.basedon_WTV5_02_01.peaks.l2inputnormnew.bed.compressed.chr7.bed.brianannotated2')\n",
    "bed = os.path.join(d,'ms1_ctrl_r1_01.basedon_ms1_ctrl_r1_01.peaks.l2inputnormnew.bed.compressed.bed')\n",
    "\n",
    "df = pd.read_table(bed, names=brian_bedhead)\n",
    "print(df.ix[3082])\n",
    "annotation_string = parse_annotation_string(df.ix[921]['annotation'])"
   ]
  },
  {
   "cell_type": "code",
   "execution_count": null,
   "metadata": {
    "scrolled": true
   },
   "outputs": [],
   "source": [
    "chr7\t99965145\t99965212"
   ]
  },
  {
   "cell_type": "code",
   "execution_count": null,
   "metadata": {},
   "outputs": [],
   "source": [
    "return_highest_priority_feature(annotation_string, TRANSCRIPT_PRIORITY)"
   ]
  },
  {
   "cell_type": "code",
   "execution_count": null,
   "metadata": {},
   "outputs": [],
   "source": [
    "prioritize_transcript_then_gene(annotation_string, GENE_PRIORITY, TRANSCRIPT_PRIORITY)"
   ]
  },
  {
   "cell_type": "code",
   "execution_count": 7,
   "metadata": {},
   "outputs": [
    {
     "ename": "NameError",
     "evalue": "name 'annotation_string' is not defined",
     "output_type": "error",
     "traceback": [
      "\u001b[0;31m---------------------------------------------------------------------------\u001b[0m",
      "\u001b[0;31mNameError\u001b[0m                                 Traceback (most recent call last)",
      "\u001b[0;32m<ipython-input-7-09a3a0b82746>\u001b[0m in \u001b[0;36m<module>\u001b[0;34m()\u001b[0m\n\u001b[1;32m      1\u001b[0m \u001b[0minterval\u001b[0m \u001b[0;34m=\u001b[0m \u001b[0mpybedtools\u001b[0m\u001b[0;34m.\u001b[0m\u001b[0mcreate_interval_from_list\u001b[0m\u001b[0;34m(\u001b[0m\u001b[0;34m[\u001b[0m\u001b[0;34m'chr7'\u001b[0m\u001b[0;34m,\u001b[0m\u001b[0;34m'99965145'\u001b[0m\u001b[0;34m,\u001b[0m \u001b[0;34m'99965212'\u001b[0m\u001b[0;34m,\u001b[0m\u001b[0;34m'.'\u001b[0m\u001b[0;34m,\u001b[0m\u001b[0;34m'0'\u001b[0m\u001b[0;34m,\u001b[0m\u001b[0;34m'+'\u001b[0m\u001b[0;34m]\u001b[0m\u001b[0;34m)\u001b[0m\u001b[0;34m\u001b[0m\u001b[0m\n\u001b[0;32m----> 2\u001b[0;31m \u001b[0ma\u001b[0m\u001b[0;34m.\u001b[0m\u001b[0mprioritize_transcript_then_gene\u001b[0m\u001b[0;34m(\u001b[0m\u001b[0mannotation_string\u001b[0m\u001b[0;34m,\u001b[0m \u001b[0mGENE_PRIORITY\u001b[0m\u001b[0;34m,\u001b[0m \u001b[0mTRANSCRIPT_PRIORITY\u001b[0m\u001b[0;34m)\u001b[0m\u001b[0;34m\u001b[0m\u001b[0m\n\u001b[0m",
      "\u001b[0;31mNameError\u001b[0m: name 'annotation_string' is not defined"
     ]
    }
   ],
   "source": [
    "interval = pybedtools.create_interval_from_list(['chr7','99965145', '99965212','.','0','+'])\n",
    "a.prioritize_transcript_then_gene(annotation_string, GENE_PRIORITY, TRANSCRIPT_PRIORITY)"
   ]
  },
  {
   "cell_type": "code",
   "execution_count": 8,
   "metadata": {},
   "outputs": [
    {
     "name": "stdout",
     "output_type": "stream",
     "text": [
      "chr7\t99965145\t99965212\t.\t0\t+\n",
      "\n",
      "[<Feature gene (chr7:99933727-99965454[+]) at 0x2ad8b58c8750>, <Feature transcript (chr7:99933737-99965454[+]) at 0x2ad8b58c8fd0>, <Feature exon (chr7:99964972-99965454[+]) at 0x2ad8b58e18d0>, <Feature transcript (chr7:99933866-99965286[+]) at 0x2ad8b58e7210>, <Feature exon (chr7:99964972-99965286[+]) at 0x2ad8b58ec310>, <Feature gene (chr7:99933737-99965356[+]) at 0x2ad8b58ece50>, <Feature transcript (chr7:99933737-99965355[+]) at 0x2ad8b58ecf10>, <Feature exon (chr7:99964972-99965355[+]) at 0x2ad8b58f6910>, <Feature UTR (chr7:99964998-99965355[+]) at 0x2ad8b590e210>, <Feature transcript (chr7:99949799-99965356[+]) at 0x2ad8b590e2d0>, <Feature exon (chr7:99964972-99965356[+]) at 0x2ad8b590e4d0>, <Feature UTR (chr7:99964998-99965356[+]) at 0x2ad8b590e910>, <Feature transcript (chr7:99949911-99965356[+]) at 0x2ad8b5919510>, <Feature UTR (chr7:99964973-99965356[+]) at 0x2ad8b5928350>, <Feature transcript (chr7:99951576-99965355[+]) at 0x2ad8b5933ed0>, <Feature gene (chr7:99965153-99997719[+]) at 0x2ad8b5951450>, <Feature transcript (chr7:99965153-99996925[+]) at 0x2ad8b5951510>, <Feature exon (chr7:99965153-99965240[+]) at 0x2ad8b5951610>, <Feature UTR (chr7:99965153-99965240[+]) at 0x2ad8b595d650>]\n",
      "('TO APPEND', 'ENST00000432297.2:99965153:99996925:+:transcript:ENSG00000085514.11:PILRA:protein_coding|ENST00000432297.2:99965153:99965240:+:exon:ENSG00000085514.11:PILRA:protein_coding|ENST00000432297.2:99965153:99965240:+:5UTR:ENSG00000085514.11:PILRA:protein_coding|ENST00000448382.1:99964972:99965356:+:exon:ENSG00000121716.14:PILRB:protein_coding|ENST00000448382.1:99949911:99965356:+:transcript:ENSG00000121716.14:PILRB:protein_coding|ENST00000448382.1:99964973:99965356:+:3UTR:ENSG00000121716.14:PILRB:protein_coding|ENST00000310771.4:99933737:99965454:+:transcript:ENSG00000272752.1:STAG3L5P-PVRIG2P-PILRB:processed_transcript|ENST00000310771.4:99964972:99965454:+:exon:ENSG00000272752.1:STAG3L5P-PVRIG2P-PILRB:processed_transcript|ENSG00000121716.14:99933737:99965356:+:gene:ENSG00000121716.14:PILRB:protein_coding|ENST00000452089.1:99949799:99965356:+:transcript:ENSG00000121716.14:PILRB:protein_coding|ENST00000452089.1:99964972:99965356:+:exon:ENSG00000121716.14:PILRB:protein_coding|ENST00000452089.1:99964998:99965356:+:3UTR:ENSG00000121716.14:PILRB:protein_coding|ENST00000610247.1:99933737:99965355:+:transcript:ENSG00000121716.14:PILRB:protein_coding|ENST00000610247.1:99964972:99965355:+:exon:ENSG00000121716.14:PILRB:protein_coding|ENST00000610247.1:99964998:99965355:+:3UTR:ENSG00000121716.14:PILRB:protein_coding|ENSG00000085514.11:99965153:99997719:+:gene:ENSG00000085514.11:PILRA:protein_coding|ENST00000444874.1:99933866:99965286:+:transcript:ENSG00000272752.1:STAG3L5P-PVRIG2P-PILRB:processed_transcript|ENST00000444874.1:99964972:99965286:+:exon:ENSG00000272752.1:STAG3L5P-PVRIG2P-PILRB:processed_transcript|ENSG00000272752.1:99933727:99965454:+:gene:ENSG00000272752.1:STAG3L5P-PVRIG2P-PILRB:processed_transcript|ENST00000444073.1:99964972:99965355:+:exon:ENSG00000121716.14:PILRB:protein_coding|ENST00000444073.1:99964998:99965355:+:3UTR:ENSG00000121716.14:PILRB:protein_coding|ENST00000444073.1:99951576:99965355:+:transcript:ENSG00000121716.14:PILRB:protein_coding')\n"
     ]
    },
    {
     "data": {
      "text/plain": [
       "'ENST00000432297.2:99965153:99965240:+:5UTR:ENSG00000085514.11:PILRA:protein_coding'"
      ]
     },
     "execution_count": 8,
     "metadata": {},
     "output_type": "execute_result"
    }
   ],
   "source": [
    "print(interval)\n",
    "annotate(interval)"
   ]
  },
  {
   "cell_type": "code",
   "execution_count": null,
   "metadata": {
    "collapsed": true
   },
   "outputs": [],
   "source": []
  },
  {
   "cell_type": "code",
   "execution_count": null,
   "metadata": {
    "collapsed": true
   },
   "outputs": [],
   "source": []
  },
  {
   "cell_type": "code",
   "execution_count": null,
   "metadata": {
    "collapsed": true
   },
   "outputs": [],
   "source": []
  },
  {
   "cell_type": "code",
   "execution_count": null,
   "metadata": {
    "collapsed": true
   },
   "outputs": [],
   "source": []
  },
  {
   "cell_type": "code",
   "execution_count": null,
   "metadata": {
    "collapsed": true
   },
   "outputs": [],
   "source": [
    "# OLD FEATURE\n",
    "import numpy as np\n",
    "from collections import OrderedDict, defaultdict\n",
    "\n",
    "def is_protein_coding(transcript_type):\n",
    "    \"\"\"\n",
    "    if defined protein coding, return True else False\n",
    "\n",
    "    :param transcript_type:\n",
    "    :return:\n",
    "    \"\"\"\n",
    "    if transcript_type == 'protein_coding':\n",
    "        return True\n",
    "    if transcript_type == 'nonsense_mediated_decay':\n",
    "        return True\n",
    "    return False\n",
    "\n",
    "def return_highest_priority_feature(formatted_features, priority):\n",
    "    \"\"\"\n",
    "    Given a list of formatted features, returns the one with the highest priority\n",
    "    \"\"\"\n",
    "    # Build dict\n",
    "    combined_dict = defaultdict(list)\n",
    "    for feature_string in formatted_features:\n",
    "        transcript, start, end, strand, feature_type, gene_id, gene_name, transcript_type_list = feature_string.split(\n",
    "            ':')\n",
    "        transcript_type_list = transcript_type_list.split(',')\n",
    "        for transcript_type in transcript_type_list:\n",
    "            if is_protein_coding(\n",
    "                    transcript_type):  # simplify all the types at first\n",
    "                combined_dict['protein_coding', feature_type].append(\n",
    "                    feature_string)\n",
    "            else:\n",
    "                combined_dict['non_coding', feature_type].append(\n",
    "                    feature_string)\n",
    "    # return the highest one\n",
    "    combined_dict = OrderedDict(\n",
    "        combined_dict)  # turn into ordered dict, is that ok?\n",
    "    combined_dict = sorted(  # sort based on priority list\n",
    "        combined_dict.iteritems(),\n",
    "        key=lambda x: priority.index([x[0][0], x[0][1]])\n",
    "    )\n",
    "    return combined_dict[0]\n",
    "\n",
    "def prioritize_transcript_then_gene(formatted_features, gene_priority,\n",
    "                         transcript_priority):\n",
    "    \"\"\"\n",
    "    Group and prioritize for each transcript, then prioritize each #1\n",
    "    transcript for each gene.\n",
    "\n",
    "    :param formatted_features:\n",
    "    :param gene_priority:\n",
    "    :param transcript_priority:\n",
    "    :return:\n",
    "    \"\"\"\n",
    "    unique_transcripts = defaultdict(list)\n",
    "    unique_genes = defaultdict(list)\n",
    "    final = []\n",
    "\n",
    "    for feature_string in formatted_features:\n",
    "        if feature_string.split(':')[4] != 'gene':\n",
    "            print(\"appending: {}\".format(feature_string))\n",
    "            unique_transcripts[feature_string.split(':')[0]].append(\n",
    "                feature_string)\n",
    "    for transcript in unique_transcripts.keys():  #\n",
    "        print(\"parsing transcripts: {}\".format(transcript))\n",
    "        genes = unique_transcripts[transcript][1].split(':')[5]\n",
    "        for gene in genes.split(','):\n",
    "            unique_genes[gene].append(\n",
    "                return_highest_priority_feature(\n",
    "                    unique_transcripts[transcript],\n",
    "                    transcript_priority\n",
    "                )[1][0]  # [0] contains the dictionary key\n",
    "            )\n",
    "            print(\"appended=: {}\".format(return_highest_priority_feature(\n",
    "                    unique_transcripts[transcript],\n",
    "                    transcript_priority\n",
    "                )[1][0]))  # [0] contains the dictionary key))\n",
    "    print(\"DONE GETTING HI PRIORITY TRANSCRIPTS.\")\n",
    "    print(\"GENES##############################\")\n",
    "    \n",
    "    for gene, transcripts in unique_genes.iteritems():\n",
    "        for transcript in transcripts:\n",
    "            final.append(transcript)\n",
    "    print('final', final)\n",
    "    final = return_highest_priority_feature(\n",
    "        final, gene_priority\n",
    "    )[1]\n",
    "    print(\"FINAL\", final)\n",
    "    if len(final) > 0:\n",
    "        return final[0]\n",
    "    else:\n",
    "        return 'intergenic'\n",
    "\n",
    "def parse_annotation_string(features_string):\n",
    "    \"\"\"\n",
    "    Splits a feature string into a list of feature strings\n",
    "\n",
    "    :param features_string:\n",
    "    :return:\n",
    "    \"\"\"\n",
    "    features = features_string.split('|')\n",
    "    return features\n"
   ]
  }
 ],
 "metadata": {
  "kernelspec": {
   "display_name": "Python 2",
   "language": "python",
   "name": "python2"
  },
  "language_info": {
   "codemirror_mode": {
    "name": "ipython",
    "version": 2
   },
   "file_extension": ".py",
   "mimetype": "text/x-python",
   "name": "python",
   "nbconvert_exporter": "python",
   "pygments_lexer": "ipython2",
   "version": "2.7.13"
  }
 },
 "nbformat": 4,
 "nbformat_minor": 1
}
